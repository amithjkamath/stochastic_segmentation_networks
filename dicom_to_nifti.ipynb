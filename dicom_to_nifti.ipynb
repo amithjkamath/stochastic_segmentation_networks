{
 "cells": [
  {
   "attachments": {},
   "cell_type": "markdown",
   "metadata": {},
   "source": [
    "# Convert raw folders from ISAS to NIfTI\n",
    "\n",
    "This notebook attempts to convert raw folders (including .dcm files for CT, MR, registration and RTSS) into NIfTI files. "
   ]
  },
  {
   "cell_type": "code",
   "execution_count": 1,
   "metadata": {},
   "outputs": [],
   "source": [
    "import os\n",
    "import glob\n",
    "\n",
    "# array manipulation and plotting\n",
    "import numpy as np\n",
    "import pandas as pd\n",
    "import matplotlib.pyplot as plt\n",
    "\n",
    "# medical image manipulation \n",
    "import SimpleITK as sitk\n",
    "\n",
    "from DicomRTTool.ReaderWriter import DicomReaderWriter"
   ]
  },
  {
   "cell_type": "code",
   "execution_count": 16,
   "metadata": {},
   "outputs": [
    {
     "name": "stdout",
     "output_type": "stream",
     "text": [
      "/home/akamath/Desktop/ssn_raw/ISAS_GBM_007/\n"
     ]
    },
    {
     "name": "stderr",
     "output_type": "stream",
     "text": [
      "Loading through DICOM files:   0%|          | 0/1 [00:00<?, ?it/s]"
     ]
    },
    {
     "name": "stdout",
     "output_type": "stream",
     "text": [
      "Loading from /home/akamath/Desktop/ssn_raw/ISAS_GBM_007/\n"
     ]
    },
    {
     "name": "stderr",
     "output_type": "stream",
     "text": [
      "Loading through DICOM files: 100%|██████████| 1/1 [00:00<00:00,  3.61it/s]"
     ]
    },
    {
     "name": "stdout",
     "output_type": "stream",
     "text": [
      "Compiling dictionaries together...\n",
      "Index 0, description ARIA RadOnc Images - Changed patient position  at /home/akamath/Desktop/ssn_raw/ISAS_GBM_007/\n",
      "Index 1, description None at /home/akamath/Desktop/ssn_raw/ISAS_GBM_007/\n",
      "Index 2, description Tirm_cor_TI_2500 at /home/akamath/Desktop/ssn_raw/ISAS_GBM_007/\n",
      "Index 3, description t1_se_tra  at /home/akamath/Desktop/ssn_raw/ISAS_GBM_007/\n",
      "Index 4, description t2_spc_sag_p2_iso  at /home/akamath/Desktop/ssn_raw/ISAS_GBM_007/\n",
      "5 unique series IDs were found. Default is index 0, to change use set_index(index)\n"
     ]
    },
    {
     "name": "stderr",
     "output_type": "stream",
     "text": [
      "\n"
     ]
    }
   ],
   "source": [
    "DICOM_path = os.path.join('/home/akamath/Desktop/ssn_raw/ISAS_GBM_007/') # folder where downloaded data was stored\n",
    "print(DICOM_path)\n",
    "\n",
    "Dicom_reader = DicomReaderWriter(description='Examples', arg_max=True)\n",
    "Dicom_reader.walk_through_folders(DICOM_path) # need to define in order to use all_roi method"
   ]
  },
  {
   "cell_type": "code",
   "execution_count": 29,
   "metadata": {},
   "outputs": [
    {
     "name": "stdout",
     "output_type": "stream",
     "text": [
      "The following ROIs were found\n",
      "r_brainstem\n",
      "r_hippocampus_l\n",
      "r_hippocampus_r\n",
      "r_hippocampus_r2\n",
      "r_hippocampus_l2\n",
      "r_brainstem1\n",
      "r_hippocampus_r1\n",
      "r_hippocampus_l1\n",
      "edema\n",
      "enhancing_tumor\n",
      "resection_cavity\n",
      "gtvp\n",
      "The following indexes have all ROIs present\n",
      "Finished listing present indexes\n",
      "Lacking ['tumor', 'high_dose'] in index 0, location /home/akamath/Desktop/ssn_raw/ISAS_GBM_007/. Found ['r_brainstem', 'r_hippocampus_l', 'r_hippocampus_r', 'r_hippocampus_r2', 'r_hippocampus_l2', 'r_brainstem1', 'r_hippocampus_r1', 'r_hippocampus_l1', 'edema', 'enhancing_tumor', 'resection_cavity', 'gtvp']\n",
      "Lacking ['tumor', 'high_dose'] in index 1, location /home/akamath/Desktop/ssn_raw/ISAS_GBM_007/. Found []\n",
      "Lacking ['tumor', 'high_dose'] in index 2, location /home/akamath/Desktop/ssn_raw/ISAS_GBM_007/. Found []\n",
      "Lacking ['tumor', 'high_dose'] in index 3, location /home/akamath/Desktop/ssn_raw/ISAS_GBM_007/. Found []\n",
      "Lacking ['tumor', 'high_dose'] in index 4, location /home/akamath/Desktop/ssn_raw/ISAS_GBM_007/. Found []\n",
      "Loading images for t2_spc_sag_p2_iso  at \n",
      " /home/akamath/Desktop/ssn_raw/ISAS_GBM_007/\n",
      "\n"
     ]
    }
   ],
   "source": [
    "all_rois = Dicom_reader.return_rois(print_rois=True)  # Return a list of all rois present, and print them\n",
    "indexes = Dicom_reader.which_indexes_have_all_rois()  # Check to see which indexes have all of the rois we want, now we can see indexes\n",
    "\n",
    "Contour_Names = ['tumor', 'high_dose'] \n",
    "# Associations work as {'variant_name': 'desired_name'}\n",
    "associations = {'dose 1000[cgy]': 'high_dose', 'dose 1200[cgy]': 'high_dose', # new high dose ROI through association\n",
    "               'exprtfrontrecgbm': 'tumor', 'rtfrontrecgbm': 'tumor', 'expltfrontgbm': 'tumor', # associating gbms to tumor \n",
    "                'ltfrontgbm': 'tumor','infrttempgbm': 'tumor', 'rttemprecgbm': 'tumor',\n",
    "               'exprttemprecgbm': 'tumor','expltfrparrecgbm': 'tumor', 'ltfrparrecgbm': 'tumor'} \n",
    "\n",
    "Dicom_reader.set_contour_names_and_associations(Contour_Names=Contour_Names, associations=associations)\n",
    "\n",
    "pt_indx = 4 #indexes[-1]\n",
    "Dicom_reader.set_index(pt_indx)  # This index has all the structures, corresponds to pre-RT T1-w image for patient 011\n",
    "Dicom_reader.get_images_and_mask()  # Load up the images and mask for the requested index"
   ]
  },
  {
   "cell_type": "code",
   "execution_count": 30,
   "metadata": {},
   "outputs": [],
   "source": [
    "dicom_sitk_handle = Dicom_reader.dicom_handle # SimpleITK image handle\n",
    "mask_sitk_handle = Dicom_reader.annotation_handle # SimpleITK mask handle\n",
    "\n",
    "sitk.WriteImage(dicom_sitk_handle, os.path.join('/home/akamath/Desktop/ssn_raw/', 'Image.nii'))\n",
    "sitk.WriteImage(mask_sitk_handle, os.path.join('/home/akamath/Desktop/ssn_raw/', 'Mask.nii'))"
   ]
  },
  {
   "cell_type": "code",
   "execution_count": 36,
   "metadata": {},
   "outputs": [
    {
     "name": "stdout",
     "output_type": "stream",
     "text": [
      "(-71.4487533569336, -85.14421844482422, 110.96417236328125)\n",
      "(0.6875, 0.6875, 4.799999713897705)\n"
     ]
    }
   ],
   "source": [
    "dcm_003_00 = sitk.ReadImage(\"/home/akamath/Desktop/ssn_raw/GBM_003/Image_01.nii\")\n",
    "print(dcm_003_00.GetOrigin())\n",
    "print(dcm_003_00.GetSpacing())\n"
   ]
  }
 ],
 "metadata": {
  "kernelspec": {
   "display_name": "geomvar-env",
   "language": "python",
   "name": "python3"
  },
  "language_info": {
   "codemirror_mode": {
    "name": "ipython",
    "version": 3
   },
   "file_extension": ".py",
   "mimetype": "text/x-python",
   "name": "python",
   "nbconvert_exporter": "python",
   "pygments_lexer": "ipython3",
   "version": "3.10.4"
  },
  "orig_nbformat": 4,
  "vscode": {
   "interpreter": {
    "hash": "68b3438558abcf3c0c9a46750579efd071289e172aa927ca49914b7d21fde20f"
   }
  }
 },
 "nbformat": 4,
 "nbformat_minor": 2
}
